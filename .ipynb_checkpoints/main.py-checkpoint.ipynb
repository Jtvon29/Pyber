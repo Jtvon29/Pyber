{
 "cells": [
  {
   "cell_type": "code",
   "execution_count": 1,
   "metadata": {},
   "outputs": [],
   "source": [
    "#insert module\n",
    "import numpy as np\n",
    "import matplotlib.pyplot as plt\n",
    "import pandas as pd\n",
    "import os"
   ]
  },
  {
   "cell_type": "code",
   "execution_count": 2,
   "metadata": {
    "collapsed": true
   },
   "outputs": [],
   "source": [
    "#path of the csv\n",
    "city_path = os.path.join(\"Resources\", \"city_data.csv\")\n",
    "ride_path = os.path.join(\"Resources\", \"ride_data.csv\")"
   ]
  },
  {
   "cell_type": "code",
   "execution_count": 3,
   "metadata": {},
   "outputs": [
    {
     "data": {
      "text/html": [
       "<div>\n",
       "<style>\n",
       "    .dataframe thead tr:only-child th {\n",
       "        text-align: right;\n",
       "    }\n",
       "\n",
       "    .dataframe thead th {\n",
       "        text-align: left;\n",
       "    }\n",
       "\n",
       "    .dataframe tbody tr th {\n",
       "        vertical-align: top;\n",
       "    }\n",
       "</style>\n",
       "<table border=\"1\" class=\"dataframe\">\n",
       "  <thead>\n",
       "    <tr style=\"text-align: right;\">\n",
       "      <th></th>\n",
       "      <th>city</th>\n",
       "      <th>driver_count</th>\n",
       "      <th>type</th>\n",
       "    </tr>\n",
       "  </thead>\n",
       "  <tbody>\n",
       "    <tr>\n",
       "      <th>0</th>\n",
       "      <td>Kelseyland</td>\n",
       "      <td>63</td>\n",
       "      <td>Urban</td>\n",
       "    </tr>\n",
       "    <tr>\n",
       "      <th>1</th>\n",
       "      <td>Nguyenbury</td>\n",
       "      <td>8</td>\n",
       "      <td>Urban</td>\n",
       "    </tr>\n",
       "    <tr>\n",
       "      <th>2</th>\n",
       "      <td>East Douglas</td>\n",
       "      <td>12</td>\n",
       "      <td>Urban</td>\n",
       "    </tr>\n",
       "    <tr>\n",
       "      <th>3</th>\n",
       "      <td>West Dawnfurt</td>\n",
       "      <td>34</td>\n",
       "      <td>Urban</td>\n",
       "    </tr>\n",
       "    <tr>\n",
       "      <th>4</th>\n",
       "      <td>Rodriguezburgh</td>\n",
       "      <td>52</td>\n",
       "      <td>Urban</td>\n",
       "    </tr>\n",
       "  </tbody>\n",
       "</table>\n",
       "</div>"
      ],
      "text/plain": [
       "             city  driver_count   type\n",
       "0      Kelseyland            63  Urban\n",
       "1      Nguyenbury             8  Urban\n",
       "2    East Douglas            12  Urban\n",
       "3   West Dawnfurt            34  Urban\n",
       "4  Rodriguezburgh            52  Urban"
      ]
     },
     "execution_count": 3,
     "metadata": {},
     "output_type": "execute_result"
    }
   ],
   "source": [
    "#Read the csv\n",
    "city_pd = pd.read_csv(city_path)\n",
    "city_pd.head()"
   ]
  },
  {
   "cell_type": "code",
   "execution_count": 4,
   "metadata": {
    "scrolled": true
   },
   "outputs": [
    {
     "data": {
      "text/html": [
       "<div>\n",
       "<style>\n",
       "    .dataframe thead tr:only-child th {\n",
       "        text-align: right;\n",
       "    }\n",
       "\n",
       "    .dataframe thead th {\n",
       "        text-align: left;\n",
       "    }\n",
       "\n",
       "    .dataframe tbody tr th {\n",
       "        vertical-align: top;\n",
       "    }\n",
       "</style>\n",
       "<table border=\"1\" class=\"dataframe\">\n",
       "  <thead>\n",
       "    <tr style=\"text-align: right;\">\n",
       "      <th></th>\n",
       "      <th>city</th>\n",
       "      <th>date</th>\n",
       "      <th>fare</th>\n",
       "      <th>ride_id</th>\n",
       "    </tr>\n",
       "  </thead>\n",
       "  <tbody>\n",
       "    <tr>\n",
       "      <th>0</th>\n",
       "      <td>Sarabury</td>\n",
       "      <td>1/16/16 13:49</td>\n",
       "      <td>38.35</td>\n",
       "      <td>5.403690e+12</td>\n",
       "    </tr>\n",
       "    <tr>\n",
       "      <th>1</th>\n",
       "      <td>South Roy</td>\n",
       "      <td>1/2/16 18:42</td>\n",
       "      <td>17.49</td>\n",
       "      <td>4.036270e+12</td>\n",
       "    </tr>\n",
       "    <tr>\n",
       "      <th>2</th>\n",
       "      <td>Wiseborough</td>\n",
       "      <td>1/21/16 17:35</td>\n",
       "      <td>44.18</td>\n",
       "      <td>3.645040e+12</td>\n",
       "    </tr>\n",
       "    <tr>\n",
       "      <th>3</th>\n",
       "      <td>Spencertown</td>\n",
       "      <td>7/31/16 14:53</td>\n",
       "      <td>6.87</td>\n",
       "      <td>2.242600e+12</td>\n",
       "    </tr>\n",
       "    <tr>\n",
       "      <th>4</th>\n",
       "      <td>Nguyenbury</td>\n",
       "      <td>7/9/16 4:42</td>\n",
       "      <td>6.28</td>\n",
       "      <td>1.543060e+12</td>\n",
       "    </tr>\n",
       "  </tbody>\n",
       "</table>\n",
       "</div>"
      ],
      "text/plain": [
       "          city           date   fare       ride_id\n",
       "0     Sarabury  1/16/16 13:49  38.35  5.403690e+12\n",
       "1    South Roy   1/2/16 18:42  17.49  4.036270e+12\n",
       "2  Wiseborough  1/21/16 17:35  44.18  3.645040e+12\n",
       "3  Spencertown  7/31/16 14:53   6.87  2.242600e+12\n",
       "4   Nguyenbury    7/9/16 4:42   6.28  1.543060e+12"
      ]
     },
     "execution_count": 4,
     "metadata": {},
     "output_type": "execute_result"
    }
   ],
   "source": [
    "ride_pd = pd.read_csv(ride_path)\n",
    "ride_pd.head()"
   ]
  },
  {
   "cell_type": "code",
   "execution_count": 6,
   "metadata": {},
   "outputs": [
    {
     "data": {
      "text/html": [
       "<div>\n",
       "<style>\n",
       "    .dataframe thead tr:only-child th {\n",
       "        text-align: right;\n",
       "    }\n",
       "\n",
       "    .dataframe thead th {\n",
       "        text-align: left;\n",
       "    }\n",
       "\n",
       "    .dataframe tbody tr th {\n",
       "        vertical-align: top;\n",
       "    }\n",
       "</style>\n",
       "<table border=\"1\" class=\"dataframe\">\n",
       "  <thead>\n",
       "    <tr style=\"text-align: right;\">\n",
       "      <th></th>\n",
       "      <th>city</th>\n",
       "      <th>driver_count</th>\n",
       "      <th>type</th>\n",
       "      <th>date</th>\n",
       "      <th>fare</th>\n",
       "      <th>ride_id</th>\n",
       "    </tr>\n",
       "  </thead>\n",
       "  <tbody>\n",
       "    <tr>\n",
       "      <th>0</th>\n",
       "      <td>Kelseyland</td>\n",
       "      <td>63</td>\n",
       "      <td>Urban</td>\n",
       "      <td>8/19/16 4:27</td>\n",
       "      <td>5.51</td>\n",
       "      <td>6.246010e+12</td>\n",
       "    </tr>\n",
       "    <tr>\n",
       "      <th>1</th>\n",
       "      <td>Kelseyland</td>\n",
       "      <td>63</td>\n",
       "      <td>Urban</td>\n",
       "      <td>4/17/16 6:59</td>\n",
       "      <td>5.54</td>\n",
       "      <td>7.466470e+12</td>\n",
       "    </tr>\n",
       "    <tr>\n",
       "      <th>2</th>\n",
       "      <td>Kelseyland</td>\n",
       "      <td>63</td>\n",
       "      <td>Urban</td>\n",
       "      <td>5/4/16 15:06</td>\n",
       "      <td>30.54</td>\n",
       "      <td>2.140500e+12</td>\n",
       "    </tr>\n",
       "    <tr>\n",
       "      <th>3</th>\n",
       "      <td>Kelseyland</td>\n",
       "      <td>63</td>\n",
       "      <td>Urban</td>\n",
       "      <td>1/25/16 20:44</td>\n",
       "      <td>12.08</td>\n",
       "      <td>1.896990e+12</td>\n",
       "    </tr>\n",
       "    <tr>\n",
       "      <th>4</th>\n",
       "      <td>Kelseyland</td>\n",
       "      <td>63</td>\n",
       "      <td>Urban</td>\n",
       "      <td>8/9/16 18:19</td>\n",
       "      <td>17.91</td>\n",
       "      <td>8.784210e+12</td>\n",
       "    </tr>\n",
       "  </tbody>\n",
       "</table>\n",
       "</div>"
      ],
      "text/plain": [
       "         city  driver_count   type           date   fare       ride_id\n",
       "0  Kelseyland            63  Urban   8/19/16 4:27   5.51  6.246010e+12\n",
       "1  Kelseyland            63  Urban   4/17/16 6:59   5.54  7.466470e+12\n",
       "2  Kelseyland            63  Urban   5/4/16 15:06  30.54  2.140500e+12\n",
       "3  Kelseyland            63  Urban  1/25/16 20:44  12.08  1.896990e+12\n",
       "4  Kelseyland            63  Urban   8/9/16 18:19  17.91  8.784210e+12"
      ]
     },
     "execution_count": 6,
     "metadata": {},
     "output_type": "execute_result"
    }
   ],
   "source": [
    "#merge the two dataframes\n",
    "merged = pd.merge(city_pd, ride_pd, on='city', how='outer')\n",
    "merged.head()"
   ]
  },
  {
   "cell_type": "code",
   "execution_count": 7,
   "metadata": {},
   "outputs": [
    {
     "data": {
      "text/plain": [
       "city\n",
       "Alvarezhaven    23.93\n",
       "Alyssaberg      20.61\n",
       "Anitamouth      37.32\n",
       "Antoniomouth    23.63\n",
       "Aprilchester    21.98\n",
       "dtype: float64"
      ]
     },
     "execution_count": 7,
     "metadata": {},
     "output_type": "execute_result"
    }
   ],
   "source": [
    "#Find the Average Fare per city and drivers per city\n",
    "merged_sort = merged.sort_values('city', ascending=True)\n",
    "Sum_city_fares = merged_sort.groupby('city')['fare'].sum()\n",
    "Drivers_per_city = merged_sort.groupby('city')['driver_count'].count()\n",
    "Avg_city_fare = (Sum_city_fares/Drivers_per_city)\n",
    "Avg_city_fare.head().round(2)"
   ]
  },
  {
   "cell_type": "code",
   "execution_count": 8,
   "metadata": {},
   "outputs": [
    {
     "data": {
      "text/plain": [
       "city\n",
       "Alvarezhaven    31\n",
       "Alyssaberg      26\n",
       "Anitamouth       9\n",
       "Antoniomouth    22\n",
       "Aprilchester    19\n",
       "Name: date, dtype: int64"
      ]
     },
     "execution_count": 8,
     "metadata": {},
     "output_type": "execute_result"
    }
   ],
   "source": [
    "#Find the number of rides per city\n",
    "Rides_per_city = merged_sort.groupby('city')['date'].count()\n",
    "Rides_per_city.head()"
   ]
  },
  {
   "cell_type": "code",
   "execution_count": 34,
   "metadata": {},
   "outputs": [
    {
     "data": {
      "text/plain": [
       "city          type    \n",
       "Alvarezhaven  Urban       31\n",
       "Alyssaberg    Urban       26\n",
       "Anitamouth    Suburban     9\n",
       "Antoniomouth  Urban       22\n",
       "Aprilchester  Urban       19\n",
       "Name: type, dtype: int64"
      ]
     },
     "execution_count": 34,
     "metadata": {},
     "output_type": "execute_result"
    }
   ],
   "source": [
    "#Find the type of city\n",
    "Type_of_city = merged_sort.groupby('city')['type'].value_counts()\n",
    "Urban = merged_sort.loc[merged_sort['type'] == \"Urban\",:]\n",
    "Suburban = merged_sort.loc[merged_sort['type'] == \"Suburban\",:]\n",
    "Rural = merged_sort.loc[merged_sort['type']== \"Rural\",:]\n",
    "Type_of_city.head()"
   ]
  },
  {
   "cell_type": "code",
   "execution_count": 36,
   "metadata": {},
   "outputs": [
    {
     "data": {
      "image/png": "[encoded data removed]",
      "text/plain": [
       "<matplotlib.figure.Figure at 0x117ceaa58>"
      ]
     },
     "metadata": {},
     "output_type": "display_data"
    }
   ],
   "source": [
    "#Store driver count as a numpy array\n",
    "driver_count = np.array(Drivers_per_city)\n",
    "\n",
    "#Double the driver count\n",
    "driver_count = driver_count * 10\n",
    "\n",
    "#Designate the colors for the types of cities\n",
    "colors = ((Urban, \"Gold\"),(Suburban, \"Blue\"),(Rural, \"Gray\"))\n",
    "\n",
    "#Scatter plot of Pyber Ride Sharing Data\n",
    "plt.scatter(Rides_per_city, Avg_city_fare, s=driver_count, alpha = 0.75, edgecolors = 'black', linewidths = 1)\n",
    "\n",
    "#labels\n",
    "xlab = 'Rides per city'\n",
    "ylab = 'Average city fare'\n",
    "title = 'Pyber Ride Sharing Data'\n",
    "\n",
    "#Add axis labels\n",
    "plt.xlabel(xlab)\n",
    "plt.ylabel(ylab)\n",
    "\n",
    "#Add title\n",
    "plt.title(title)\n",
    "\n",
    "#graph the plot\n",
    "plt.show()\n"
   ]
  },
  {
   "cell_type": "code",
   "execution_count": 17,
   "metadata": {},
   "outputs": [
    {
     "data": {
      "text/plain": [
       "([<matplotlib.patches.Wedge at 0x1179db7f0>,\n",
       "  <matplotlib.patches.Wedge at 0x1179e5278>,\n",
       "  <matplotlib.patches.Wedge at 0x1179e5cf8>],\n",
       " [Text(0.390799,-1.13458,'Urban'),\n",
       "  Text(-0.135981,1.09156,'Suburban'),\n",
       "  Text(-1.05247,0.319863,'Rural')],\n",
       " [Text(0.227966,-0.661839,'63.3%'),\n",
       "  Text(-0.0741712,0.595398,'30.0%'),\n",
       "  Text(-0.574073,0.174471,'6.6%')])"
      ]
     },
     "execution_count": 17,
     "metadata": {},
     "output_type": "execute_result"
    }
   ],
   "source": [
    "# create pie chart of % of total city fares by city type\n",
    "City_fare_type = merged_sort.groupby('type')['fare'].sum()\n",
    "City_fare_sum = merged_sort['fare'].sum()\n",
    "labels = [\"Urban\", \"Suburban\", \"Rural\"]\n",
    "slice_percent = [63.97,30.35,6.68]\n",
    "colors = [\"Gold\",\"Blue\",\"Gray\"]\n",
    "explode = (0.1,0,0)\n",
    "\n",
    "plt.pie(slice_percent, explode=explode, labels=labels, colors=colors,\n",
    "        autopct=\"%1.1f%%\", shadow=True, startangle=175)"
   ]
  },
  {
   "cell_type": "code",
   "execution_count": 18,
   "metadata": {},
   "outputs": [
    {
     "data": {
      "text/plain": [
       "(-1.0981641774296413,\n",
       " 1.1451641884817496,\n",
       " -1.2143523554572748,\n",
       " 1.1178802155480043)"
      ]
     },
     "execution_count": 18,
     "metadata": {},
     "output_type": "execute_result"
    }
   ],
   "source": [
    "#make sure the axis are equal\n",
    "plt.axis('equal')"
   ]
  },
  {
   "cell_type": "code",
   "execution_count": 19,
   "metadata": {},
   "outputs": [
    {
     "data": {
      "image/png": "[encoded data removed]",
      "text/plain": [
       "<matplotlib.figure.Figure at 0x10babd7b8>"
      ]
     },
     "metadata": {},
     "output_type": "display_data"
    }
   ],
   "source": [
    "#plot the pie chart\n",
    "plt.show()"
   ]
  },
  {
   "cell_type": "code",
   "execution_count": 20,
   "metadata": {},
   "outputs": [
    {
     "data": {
      "text/plain": [
       "([<matplotlib.patches.Wedge at 0x117a2efd0>,\n",
       "  <matplotlib.patches.Wedge at 0x117a38a58>,\n",
       "  <matplotlib.patches.Wedge at 0x117a95518>],\n",
       " [Text(0.566249,-1.058,'Urban'),\n",
       "  Text(-0.352456,1.04201,'Suburban'),\n",
       "  Text(-1.06512,0.274823,'Rural')],\n",
       " [Text(0.330312,-0.617166,'68.4%'),\n",
       "  Text(-0.192249,0.568366,'26.3%'),\n",
       "  Text(-0.580972,0.149904,'5.3%')])"
      ]
     },
     "execution_count": 20,
     "metadata": {},
     "output_type": "execute_result"
    }
   ],
   "source": [
    "# create pie chart of % of total rides by city type\n",
    "City_ride_type = merged_sort.groupby('type')['date'].count()\n",
    "City_ride_sum = len(merged_sort)\n",
    "labels = [\"Urban\", \"Suburban\", \"Rural\"]\n",
    "slice_percent = [68.42,26.32,5.26]\n",
    "colors = [\"Gold\",\"Blue\",\"Gray\"]\n",
    "explode = (0.1,0,0)\n",
    "\n",
    "plt.pie(slice_percent, explode=explode, labels=labels, colors=colors,\n",
    "        autopct=\"%1.1f%%\", shadow=True, startangle=175)"
   ]
  },
  {
   "cell_type": "code",
   "execution_count": 21,
   "metadata": {},
   "outputs": [
    {
     "data": {
      "text/plain": [
       "(-1.0984050787698971,\n",
       " 1.1502235654332686,\n",
       " -1.2005705419520711,\n",
       " 1.1134301990216364)"
      ]
     },
     "execution_count": 21,
     "metadata": {},
     "output_type": "execute_result"
    }
   ],
   "source": [
    "#make the axes equal\n",
    "plt.axis('equal')"
   ]
  },
  {
   "cell_type": "code",
   "execution_count": 22,
   "metadata": {},
   "outputs": [
    {
     "data": {
      "image/png": "[encoded data removed]",
      "text/plain": [
       "<matplotlib.figure.Figure at 0x109bdcd30>"
      ]
     },
     "metadata": {},
     "output_type": "display_data"
    }
   ],
   "source": [
    "#plot the pie chart\n",
    "plt.show()"
   ]
  },
  {
   "cell_type": "code",
   "execution_count": 28,
   "metadata": {},
   "outputs": [
    {
     "data": {
      "text/plain": [
       "([<matplotlib.patches.Wedge at 0x117bdb358>,\n",
       "  <matplotlib.patches.Wedge at 0x117bdbda0>,\n",
       "  <matplotlib.patches.Wedge at 0x117be2748>],\n",
       " [Text(1.04015,-0.598403,'Urban'),\n",
       "  Text(-0.936316,0.577333,'Suburban'),\n",
       "  Text(-1.09238,0.129215,'Rural')],\n",
       " [Text(0.606755,-0.349069,'86.2%'),\n",
       "  Text(-0.510718,0.314909,'12.9%'),\n",
       "  Text(-0.595846,0.070481,'1.0%')])"
      ]
     },
     "execution_count": 28,
     "metadata": {},
     "output_type": "execute_result"
    }
   ],
   "source": [
    "# create pie chart of % of total drivers by city type\n",
    "City_driver_type = merged_sort.groupby('type')['driver_count'].sum()\n",
    "City_driver_sum = merged_sort['driver_count'].sum()\n",
    "labels = [\"Urban\", \"Suburban\", \"Rural\"]\n",
    "slice_percent = [86.16,12.87,.97]\n",
    "colors = [\"Gold\",\"Blue\",\"Gray\"]\n",
    "explode = (0.1,0,0)\n",
    "\n",
    "plt.pie(slice_percent, explode=explode, labels=labels, colors=colors,\n",
    "        autopct=\"%1.1f%%\", shadow=True, startangle=175)"
   ]
  },
  {
   "cell_type": "code",
   "execution_count": 29,
   "metadata": {},
   "outputs": [
    {
     "data": {
      "text/plain": [
       "(-1.1006123715895457,\n",
       " 1.1965768156274426,\n",
       " -1.153525148565463,\n",
       " 1.0556729605936248)"
      ]
     },
     "execution_count": 29,
     "metadata": {},
     "output_type": "execute_result"
    }
   ],
   "source": [
    "#equal axis\n",
    "plt.axis('equal')"
   ]
  },
  {
   "cell_type": "code",
   "execution_count": 30,
   "metadata": {},
   "outputs": [
    {
     "data": {
      "image/png": "[encoded data removed]",
      "text/plain": [
       "<matplotlib.figure.Figure at 0x117b2e9b0>"
      ]
     },
     "metadata": {},
     "output_type": "display_data"
    }
   ],
   "source": [
    "#plot the chart\n",
    "plt.show()"
   ]
  },
  {
   "cell_type": "code",
   "execution_count": null,
   "metadata": {
    "collapsed": true
   },
   "outputs": [],
   "source": []
  }
 ],
 "metadata": {
  "kernelspec": {
   "display_name": "Python 3",
   "language": "python",
   "name": "python3"
  },
  "language_info": {
   "codemirror_mode": {
    "name": "ipython",
    "version": 3
   },
   "file_extension": ".py",
   "mimetype": "text/x-python",
   "name": "python",
   "nbconvert_exporter": "python",
   "pygments_lexer": "ipython3",
   "version": "3.6.3"
  }
 },
 "nbformat": 4,
 "nbformat_minor": 2
}
